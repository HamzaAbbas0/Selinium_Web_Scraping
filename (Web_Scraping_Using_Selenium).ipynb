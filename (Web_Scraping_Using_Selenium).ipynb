{
  "cells": [
    {
      "cell_type": "markdown",
      "id": "e7932c93",
      "metadata": {
        "id": "e7932c93"
      },
      "source": [
        "#### 1. Import modules"
      ]
    },
    {
      "cell_type": "code",
      "execution_count": null,
      "id": "b73bf49a",
      "metadata": {
        "id": "b73bf49a"
      },
      "outputs": [],
      "source": [
        "from selenium import webdriver\n",
        "#from selenium.webdriver.chrome.service import Service\n",
        "from selenium.webdriver.firefox.options import Options # 1. import modulesns\n",
        "from selenium.webdriver.firefox.service import Service\n",
        "from selenium.webdriver.support.ui import WebDriverWait\n",
        "from selenium.webdriver.support import expected_conditions as EC\n",
        "from selenium.webdriver.common.by import By\n",
        "from selenium.common.exceptions import NoSuchElementException, TimeoutException, ElementClickInterceptedException\n",
        "import pandas as pd"
      ]
    },
    {
      "cell_type": "code",
      "source": [
        "!pip install selenium"
      ],
      "metadata": {
        "colab": {
          "base_uri": "https://localhost:8080/"
        },
        "id": "fEmfFzqv--r8",
        "outputId": "8168d6e4-9c73-4857-fe1c-783b427c2425"
      },
      "id": "fEmfFzqv--r8",
      "execution_count": null,
      "outputs": [
        {
          "output_type": "stream",
          "name": "stdout",
          "text": [
            "Collecting selenium\n",
            "  Downloading selenium-4.21.0-py3-none-any.whl (9.5 MB)\n",
            "\u001b[2K     \u001b[90m━━━━━━━━━━━━━━━━━━━━━━━━━━━━━━━━━━━━━━━━\u001b[0m \u001b[32m9.5/9.5 MB\u001b[0m \u001b[31m8.1 MB/s\u001b[0m eta \u001b[36m0:00:00\u001b[0m\n",
            "\u001b[?25hRequirement already satisfied: urllib3[socks]<3,>=1.26 in /usr/local/lib/python3.10/dist-packages (from selenium) (2.0.7)\n",
            "Collecting trio~=0.17 (from selenium)\n",
            "  Downloading trio-0.25.1-py3-none-any.whl (467 kB)\n",
            "\u001b[2K     \u001b[90m━━━━━━━━━━━━━━━━━━━━━━━━━━━━━━━━━━━━━━━━\u001b[0m \u001b[32m467.7/467.7 kB\u001b[0m \u001b[31m9.1 MB/s\u001b[0m eta \u001b[36m0:00:00\u001b[0m\n",
            "\u001b[?25hCollecting trio-websocket~=0.9 (from selenium)\n",
            "  Downloading trio_websocket-0.11.1-py3-none-any.whl (17 kB)\n",
            "Requirement already satisfied: certifi>=2021.10.8 in /usr/local/lib/python3.10/dist-packages (from selenium) (2024.2.2)\n",
            "Requirement already satisfied: typing_extensions>=4.9.0 in /usr/local/lib/python3.10/dist-packages (from selenium) (4.11.0)\n",
            "Requirement already satisfied: attrs>=23.2.0 in /usr/local/lib/python3.10/dist-packages (from trio~=0.17->selenium) (23.2.0)\n",
            "Requirement already satisfied: sortedcontainers in /usr/local/lib/python3.10/dist-packages (from trio~=0.17->selenium) (2.4.0)\n",
            "Requirement already satisfied: idna in /usr/local/lib/python3.10/dist-packages (from trio~=0.17->selenium) (3.7)\n",
            "Collecting outcome (from trio~=0.17->selenium)\n",
            "  Downloading outcome-1.3.0.post0-py2.py3-none-any.whl (10 kB)\n",
            "Requirement already satisfied: sniffio>=1.3.0 in /usr/local/lib/python3.10/dist-packages (from trio~=0.17->selenium) (1.3.1)\n",
            "Requirement already satisfied: exceptiongroup in /usr/local/lib/python3.10/dist-packages (from trio~=0.17->selenium) (1.2.1)\n",
            "Collecting wsproto>=0.14 (from trio-websocket~=0.9->selenium)\n",
            "  Downloading wsproto-1.2.0-py3-none-any.whl (24 kB)\n",
            "Requirement already satisfied: pysocks!=1.5.7,<2.0,>=1.5.6 in /usr/local/lib/python3.10/dist-packages (from urllib3[socks]<3,>=1.26->selenium) (1.7.1)\n",
            "Collecting h11<1,>=0.9.0 (from wsproto>=0.14->trio-websocket~=0.9->selenium)\n",
            "  Downloading h11-0.14.0-py3-none-any.whl (58 kB)\n",
            "\u001b[2K     \u001b[90m━━━━━━━━━━━━━━━━━━━━━━━━━━━━━━━━━━━━━━━━\u001b[0m \u001b[32m58.3/58.3 kB\u001b[0m \u001b[31m6.3 MB/s\u001b[0m eta \u001b[36m0:00:00\u001b[0m\n",
            "\u001b[?25hInstalling collected packages: outcome, h11, wsproto, trio, trio-websocket, selenium\n",
            "Successfully installed h11-0.14.0 outcome-1.3.0.post0 selenium-4.21.0 trio-0.25.1 trio-websocket-0.11.1 wsproto-1.2.0\n"
          ]
        }
      ]
    },
    {
      "cell_type": "markdown",
      "id": "97d83001",
      "metadata": {
        "id": "97d83001"
      },
      "source": [
        "#### 2. Define the Gecko driver"
      ]
    },
    {
      "cell_type": "code",
      "execution_count": null,
      "id": "50377c30",
      "metadata": {
        "id": "50377c30"
      },
      "outputs": [],
      "source": [
        "options = Options()\n",
        "options.binary_location = r'C:\\Program Files\\Mozilla Firefox\\firefox.exe'\n",
        "\n",
        "options.add_argument(\"--lang=en-US\")\n",
        "\n",
        "# ban the picture and css for faster speed\n",
        "#prefs = {\"profile.managed_default_content_settings.images\": 2, 'permissions.default.stylesheet': 2}\n",
        "#options.add_experimental_option(\"prefs\", prefs)\n",
        "\n",
        "# dirver initialization\n",
        "# remember the geck0 driver location\n",
        "# C:\\Users\\V530\\Downloads\\chromedriver.exe\"\n",
        "driver = webdriver.Firefox(service=Service(r'D:\\software\\browser\\geckodriver-v0.30.0-win64\\geckodriver.exe'),options=options)\n",
        "driver.set_page_load_timeout(10)"
      ]
    },
    {
      "cell_type": "markdown",
      "id": "2fb463b2",
      "metadata": {
        "id": "2fb463b2"
      },
      "source": [
        "#### 3. Define the weblist you want to scrape"
      ]
    },
    {
      "cell_type": "code",
      "execution_count": null,
      "id": "82b437a8",
      "metadata": {
        "id": "82b437a8"
      },
      "outputs": [],
      "source": [
        "#folder to store the scraped reviews\n",
        "product_folder = 'D:/research/data/reviews/bestbuy/tablet/'\n",
        "brand = 'Samsung'\n",
        "model = 'Galaxy Tab A9'\n",
        "\n",
        "web_dict = {\n",
        "    'Samsung - Galaxy Tab A9': \"https://www.bestbuy.com/site/reviews/samsung-galaxy-tab-a9-11-64gb-wi-fi-graphite/6566195?variant=A&sort=MOST_RECENT&variant=A&page=\"\n",
        "}\n",
        "\n",
        "# define the maxinum page for reviews or you need (try exception module)\n",
        "web_pages = {\n",
        "    'Samsung - Galaxy Tab A9': 3 #change this number to the \"(total reviews/20) + 1\" you want to scrape, i.e. if there are 3000 reviews to scrape, then this value is (3000/20) + 1= 151\n",
        "}\n",
        "\n",
        "# A page have about 10 reviews, sometimes i face problems\n",
        "    # you for 6460 reviews, set 646\n",
        "\n",
        "    # for 4590 reviews, set 459 page"
      ]
    },
    {
      "cell_type": "markdown",
      "id": "0dd4d450",
      "metadata": {
        "id": "0dd4d450"
      },
      "source": [
        "#### 4. Define the data to scrape"
      ]
    },
    {
      "cell_type": "code",
      "execution_count": null,
      "id": "75cf06b8",
      "metadata": {
        "id": "75cf06b8"
      },
      "outputs": [],
      "source": [
        "css_path_reviews = \"[class='review-item-content col-xs-12 col-md-9']\" #get the list of reviews\n",
        "css_path_review_text = \"[class='ugc-review-body'] > p\" #get the review text\n",
        "css_path_review_date = \"[class='posted-date-ownership disclaimer v-m-right-xxs'] > [class='submission-date']\" #get the review date"
      ]
    },
    {
      "cell_type": "markdown",
      "id": "25b7def8",
      "metadata": {
        "id": "25b7def8"
      },
      "source": [
        "#### 5. Scrape the reviews"
      ]
    },
    {
      "cell_type": "code",
      "execution_count": null,
      "id": "63653d47",
      "metadata": {
        "id": "63653d47",
        "outputId": "9f530f57-75a5-45ec-ff59-3cc6fd305244"
      },
      "outputs": [
        {
          "name": "stdout",
          "output_type": "stream",
          "text": [
            "Extracting review 1 in page 2..\n",
            "Extracting review 2 in page 2..\n",
            "Extracting review 3 in page 2..\n",
            "Extracting review 4 in page 2..\n",
            "Extracting review 5 in page 2..\n",
            "Extracting review 6 in page 2..\n",
            "Extracting review 7 in page 2..\n",
            "Extracting review 8 in page 2..\n",
            "Extracting review 9 in page 2..\n",
            "Extracting review 10 in page 2..\n",
            "Extracting review 11 in page 2..\n",
            "Extracting review 12 in page 2..\n",
            "Extracting review 13 in page 2..\n",
            "Extracting review 14 in page 2..\n",
            "Extracting review 15 in page 2..\n",
            "Extracting review 16 in page 2..\n",
            "Extracting review 17 in page 2..\n",
            "Extracting review 18 in page 2..\n",
            "Extracting review 19 in page 2..\n",
            "Extracting review 20 in page 2..\n",
            "Extracting review 1 in page 3..\n",
            "Extracting review 2 in page 3..\n",
            "Extracting review 3 in page 3..\n",
            "Extracting review 4 in page 3..\n",
            "Extracting review 5 in page 3..\n",
            "Extracting review 6 in page 3..\n",
            "Extracting review 7 in page 3..\n",
            "Extracting review 8 in page 3..\n",
            "Extracting review 9 in page 3..\n",
            "Extracting review 10 in page 3..\n",
            "Extracting review 11 in page 3..\n",
            "Extracting review 12 in page 3..\n",
            "Extracting review 13 in page 3..\n",
            "Extracting review 14 in page 3..\n",
            "Extracting review 15 in page 3..\n",
            "Extracting review 16 in page 3..\n",
            "Extracting review 17 in page 3..\n",
            "Extracting review 18 in page 3..\n",
            "Extracting review 19 in page 3..\n",
            "Extracting review 20 in page 3..\n",
            "Reviews extraction completed.\n",
            "Reviews saved to D:/research/data/reviews/bestbuy/tablet/Samsung - Galaxy Tab A9.csv\n"
          ]
        }
      ],
      "source": [
        "import time\n",
        "# open the url for driver\n",
        "for name, url in web_dict.items():\n",
        "    reviews_list = []\n",
        "    for i in range(1, web_pages[name]):\n",
        "        driver.get(url+str(i))\n",
        "        # time sleep for avoiding detect, advise set it a little large\n",
        "        time.sleep(10)\n",
        "        review_elements = WebDriverWait(driver, 10).until(EC.presence_of_all_elements_located((By.CSS_SELECTOR, css_path_reviews)))\n",
        "        for j in range(len(review_elements)):\n",
        "            print(f\"Extracting review {j+1} in page {i}..\")\n",
        "            child_element_text = review_elements[j].find_element(By.CSS_SELECTOR, css_path_review_text)\n",
        "            #print(f\"Review Text[{j}]:{child_element_text.text}\")\n",
        "            child_element_date = review_elements[j].find_element(By.CSS_SELECTOR, css_path_review_date)\n",
        "            #print(f\"Review Date[{j}]:{child_element_date.text}\")\n",
        "            date = child_element_date.get_attribute(\"title\")\n",
        "            #print(f\"Review Date[{j}]:{date}\")\n",
        "            #reviews_list.append({'product': name,'review': child_element_text.text, 'date':date})\n",
        "            reviews_list.append({ 'brand': brand, 'model': model, 'product': name, 'date':date, 'review': child_element_text.text})\n",
        "    print(f\"Reviews extraction completed.\")\n",
        "    pd.DataFrame(reviews_list).to_csv(product_folder+name+\".csv\")\n",
        "    print(f\"Reviews saved to {product_folder+name}.csv\")"
      ]
    },
    {
      "cell_type": "markdown",
      "id": "87f01480",
      "metadata": {
        "id": "87f01480"
      },
      "source": [
        "#### 6. Close driver session"
      ]
    },
    {
      "cell_type": "code",
      "execution_count": null,
      "id": "5c6430de",
      "metadata": {
        "id": "5c6430de"
      },
      "outputs": [],
      "source": [
        "driver.close()"
      ]
    },
    {
      "cell_type": "code",
      "execution_count": null,
      "id": "e6e23cdc",
      "metadata": {
        "id": "e6e23cdc"
      },
      "outputs": [],
      "source": []
    }
  ],
  "metadata": {
    "kernelspec": {
      "display_name": "Python 3 (ipykernel)",
      "language": "python",
      "name": "python3"
    },
    "language_info": {
      "codemirror_mode": {
        "name": "ipython",
        "version": 3
      },
      "file_extension": ".py",
      "mimetype": "text/x-python",
      "name": "python",
      "nbconvert_exporter": "python",
      "pygments_lexer": "ipython3",
      "version": "3.9.13"
    },
    "colab": {
      "provenance": []
    }
  },
  "nbformat": 4,
  "nbformat_minor": 5
}